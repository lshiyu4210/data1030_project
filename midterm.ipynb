{
 "cells": [
  {
   "cell_type": "code",
   "execution_count": 141,
   "metadata": {},
   "outputs": [
    {
     "data": {
      "text/html": [
       "<div>\n",
       "<style scoped>\n",
       "    .dataframe tbody tr th:only-of-type {\n",
       "        vertical-align: middle;\n",
       "    }\n",
       "\n",
       "    .dataframe tbody tr th {\n",
       "        vertical-align: top;\n",
       "    }\n",
       "\n",
       "    .dataframe thead th {\n",
       "        text-align: right;\n",
       "    }\n",
       "</style>\n",
       "<table border=\"1\" class=\"dataframe\">\n",
       "  <thead>\n",
       "    <tr style=\"text-align: right;\">\n",
       "      <th></th>\n",
       "      <th>brand</th>\n",
       "      <th>model</th>\n",
       "      <th>model_year</th>\n",
       "      <th>milage</th>\n",
       "      <th>fuel_type</th>\n",
       "      <th>engine</th>\n",
       "      <th>transmission</th>\n",
       "      <th>ext_col</th>\n",
       "      <th>int_col</th>\n",
       "      <th>accident</th>\n",
       "      <th>clean_title</th>\n",
       "      <th>price</th>\n",
       "    </tr>\n",
       "  </thead>\n",
       "  <tbody>\n",
       "    <tr>\n",
       "      <th>0</th>\n",
       "      <td>Ford</td>\n",
       "      <td>Utility Police Interceptor Base</td>\n",
       "      <td>2013</td>\n",
       "      <td>51,000 mi.</td>\n",
       "      <td>E85 Flex Fuel</td>\n",
       "      <td>300.0HP 3.7L V6 Cylinder Engine Flex Fuel Capa...</td>\n",
       "      <td>6-Speed A/T</td>\n",
       "      <td>Black</td>\n",
       "      <td>Black</td>\n",
       "      <td>At least 1 accident or damage reported</td>\n",
       "      <td>Yes</td>\n",
       "      <td>$10,300</td>\n",
       "    </tr>\n",
       "    <tr>\n",
       "      <th>1</th>\n",
       "      <td>Hyundai</td>\n",
       "      <td>Palisade SEL</td>\n",
       "      <td>2021</td>\n",
       "      <td>34,742 mi.</td>\n",
       "      <td>Gasoline</td>\n",
       "      <td>3.8L V6 24V GDI DOHC</td>\n",
       "      <td>8-Speed Automatic</td>\n",
       "      <td>Moonlight Cloud</td>\n",
       "      <td>Gray</td>\n",
       "      <td>At least 1 accident or damage reported</td>\n",
       "      <td>Yes</td>\n",
       "      <td>$38,005</td>\n",
       "    </tr>\n",
       "    <tr>\n",
       "      <th>2</th>\n",
       "      <td>Lexus</td>\n",
       "      <td>RX 350 RX 350</td>\n",
       "      <td>2022</td>\n",
       "      <td>22,372 mi.</td>\n",
       "      <td>Gasoline</td>\n",
       "      <td>3.5 Liter DOHC</td>\n",
       "      <td>Automatic</td>\n",
       "      <td>Blue</td>\n",
       "      <td>Black</td>\n",
       "      <td>None reported</td>\n",
       "      <td>NaN</td>\n",
       "      <td>$54,598</td>\n",
       "    </tr>\n",
       "    <tr>\n",
       "      <th>3</th>\n",
       "      <td>INFINITI</td>\n",
       "      <td>Q50 Hybrid Sport</td>\n",
       "      <td>2015</td>\n",
       "      <td>88,900 mi.</td>\n",
       "      <td>Hybrid</td>\n",
       "      <td>354.0HP 3.5L V6 Cylinder Engine Gas/Electric H...</td>\n",
       "      <td>7-Speed A/T</td>\n",
       "      <td>Black</td>\n",
       "      <td>Black</td>\n",
       "      <td>None reported</td>\n",
       "      <td>Yes</td>\n",
       "      <td>$15,500</td>\n",
       "    </tr>\n",
       "    <tr>\n",
       "      <th>4</th>\n",
       "      <td>Audi</td>\n",
       "      <td>Q3 45 S line Premium Plus</td>\n",
       "      <td>2021</td>\n",
       "      <td>9,835 mi.</td>\n",
       "      <td>Gasoline</td>\n",
       "      <td>2.0L I4 16V GDI DOHC Turbo</td>\n",
       "      <td>8-Speed Automatic</td>\n",
       "      <td>Glacier White Metallic</td>\n",
       "      <td>Black</td>\n",
       "      <td>None reported</td>\n",
       "      <td>NaN</td>\n",
       "      <td>$34,999</td>\n",
       "    </tr>\n",
       "  </tbody>\n",
       "</table>\n",
       "</div>"
      ],
      "text/plain": [
       "      brand                            model  model_year      milage  \\\n",
       "0      Ford  Utility Police Interceptor Base        2013  51,000 mi.   \n",
       "1   Hyundai                     Palisade SEL        2021  34,742 mi.   \n",
       "2     Lexus                    RX 350 RX 350        2022  22,372 mi.   \n",
       "3  INFINITI                 Q50 Hybrid Sport        2015  88,900 mi.   \n",
       "4      Audi        Q3 45 S line Premium Plus        2021   9,835 mi.   \n",
       "\n",
       "       fuel_type                                             engine  \\\n",
       "0  E85 Flex Fuel  300.0HP 3.7L V6 Cylinder Engine Flex Fuel Capa...   \n",
       "1       Gasoline                               3.8L V6 24V GDI DOHC   \n",
       "2       Gasoline                                     3.5 Liter DOHC   \n",
       "3         Hybrid  354.0HP 3.5L V6 Cylinder Engine Gas/Electric H...   \n",
       "4       Gasoline                         2.0L I4 16V GDI DOHC Turbo   \n",
       "\n",
       "        transmission                 ext_col int_col  \\\n",
       "0        6-Speed A/T                   Black   Black   \n",
       "1  8-Speed Automatic         Moonlight Cloud    Gray   \n",
       "2          Automatic                    Blue   Black   \n",
       "3        7-Speed A/T                   Black   Black   \n",
       "4  8-Speed Automatic  Glacier White Metallic   Black   \n",
       "\n",
       "                                 accident clean_title    price  \n",
       "0  At least 1 accident or damage reported         Yes  $10,300  \n",
       "1  At least 1 accident or damage reported         Yes  $38,005  \n",
       "2                           None reported         NaN  $54,598  \n",
       "3                           None reported         Yes  $15,500  \n",
       "4                           None reported         NaN  $34,999  "
      ]
     },
     "execution_count": 141,
     "metadata": {},
     "output_type": "execute_result"
    }
   ],
   "source": [
    "# Data import\n",
    "import pandas as pd\n",
    "import numpy as np\n",
    "\n",
    "used_car = pd.read_csv(\"used_cars.csv\")\n",
    "used_car.head(5)"
   ]
  },
  {
   "cell_type": "markdown",
   "metadata": {},
   "source": [
    "### First, additional information can be extracted from the dataset. The following steps involve feature engineering, which will be applied before conducting EDA."
   ]
  },
  {
   "cell_type": "code",
   "execution_count": 142,
   "metadata": {},
   "outputs": [],
   "source": [
    "# Transform milage and price into numerical features\n",
    "used_car['milage'] = used_car['milage'].str.replace(' mi.', '').str.replace(',', '').astype(int)\n",
    "used_car['price'] = used_car['price'].str.replace('$', '').str.replace(',', '').astype('int64')"
   ]
  },
  {
   "cell_type": "code",
   "execution_count": 143,
   "metadata": {},
   "outputs": [
    {
     "name": "stdout",
     "output_type": "stream",
     "text": [
      "['E85 Flex Fuel' 'Gasoline' 'Hybrid' nan 'Diesel' 'Plug-In Hybrid' '–'\n",
      " 'not supported']\n",
      "['E85 Flex Fuel' 'Gasoline' 'Hybrid' nan 'Diesel' 'Plug-In Hybrid']\n"
     ]
    }
   ],
   "source": [
    "# Unify nan in fuel_type \n",
    "print(used_car[\"fuel_type\"].unique())\n",
    "used_car['fuel_type'] = used_car['fuel_type'].replace(['–', 'not supported'], np.nan)\n",
    "print(used_car[\"fuel_type\"].unique())"
   ]
  },
  {
   "cell_type": "code",
   "execution_count": 144,
   "metadata": {},
   "outputs": [
    {
     "name": "stdout",
     "output_type": "stream",
     "text": [
      "1146\n",
      "62\n"
     ]
    }
   ],
   "source": [
    "print(len(used_car[\"engine\"].unique()))\n",
    "print(len(used_car[\"transmission\"].unique()))"
   ]
  },
  {
   "cell_type": "markdown",
   "metadata": {},
   "source": [
    "Both the \"engine\" and \"transmission\" columns are categorical variables with too many distinct categories, which limits their predictive usefulness in their current form. However, since both columns contain detailed descriptions as strings, valuable information can still be extracted. From the \"engine\" column, I can derive attributes such as horsepower, engine displacement, the number of cylinders, and whether the engine is turbocharged. Similarly, from the \"transmission\" column, I can extract whether it is automatic or manual and the number of gears."
   ]
  },
  {
   "cell_type": "code",
   "execution_count": 145,
   "metadata": {},
   "outputs": [],
   "source": [
    "# Extract horsepower from engine\n",
    "def extract_horsepower(engine):\n",
    "    match = pd.Series(engine).str.extract(r'(\\d+\\.?\\d*)HP')\n",
    "    return match[0] if not match.empty else np.nan\n",
    "\n",
    "used_car['horsepower'] = used_car['engine'].apply(extract_horsepower).astype(float)"
   ]
  },
  {
   "cell_type": "code",
   "execution_count": 146,
   "metadata": {},
   "outputs": [],
   "source": [
    "# Extract engine displacement from engine\n",
    "def extract_displacement(engine):\n",
    "    match = pd.Series(engine).str.extract(r'(\\d+\\.?\\d*)\\s*(L|Liter)')\n",
    "    return match[0] if not match.empty else np.nan\n",
    "\n",
    "used_car['displacement'] = used_car['engine'].apply(extract_displacement).astype(float)"
   ]
  },
  {
   "cell_type": "code",
   "execution_count": 147,
   "metadata": {},
   "outputs": [],
   "source": [
    "# Extract cylinders from engine\n",
    "def extract_cylinders(engine):\n",
    "    match = pd.Series(engine).str.extract(r'(?:V|I)(\\d+)|(\\d+)\\s*Cylinder')\n",
    "    return match[0].combine_first(match[1]) if not match.empty else np.nan\n",
    "\n",
    "used_car['cylinders'] = used_car['engine'].apply(extract_cylinders).astype(float)"
   ]
  },
  {
   "cell_type": "code",
   "execution_count": 148,
   "metadata": {},
   "outputs": [],
   "source": [
    "# Determine whether an engine has turbo\n",
    "def extract_turbo(engine):\n",
    "    if \"turbo\" in engine.lower():\n",
    "        return True\n",
    "    else:\n",
    "        return False\n",
    "    \n",
    "used_car['turbo'] = used_car['engine'].apply(extract_turbo)"
   ]
  },
  {
   "cell_type": "code",
   "execution_count": 149,
   "metadata": {},
   "outputs": [
    {
     "data": {
      "text/html": [
       "<div>\n",
       "<style scoped>\n",
       "    .dataframe tbody tr th:only-of-type {\n",
       "        vertical-align: middle;\n",
       "    }\n",
       "\n",
       "    .dataframe tbody tr th {\n",
       "        vertical-align: top;\n",
       "    }\n",
       "\n",
       "    .dataframe thead th {\n",
       "        text-align: right;\n",
       "    }\n",
       "</style>\n",
       "<table border=\"1\" class=\"dataframe\">\n",
       "  <thead>\n",
       "    <tr style=\"text-align: right;\">\n",
       "      <th></th>\n",
       "      <th>engine</th>\n",
       "      <th>horsepower</th>\n",
       "      <th>displacement</th>\n",
       "      <th>cylinders</th>\n",
       "      <th>turbo</th>\n",
       "    </tr>\n",
       "  </thead>\n",
       "  <tbody>\n",
       "    <tr>\n",
       "      <th>0</th>\n",
       "      <td>300.0HP 3.7L V6 Cylinder Engine Flex Fuel Capa...</td>\n",
       "      <td>300.0</td>\n",
       "      <td>3.7</td>\n",
       "      <td>6.0</td>\n",
       "      <td>False</td>\n",
       "    </tr>\n",
       "    <tr>\n",
       "      <th>1</th>\n",
       "      <td>3.8L V6 24V GDI DOHC</td>\n",
       "      <td>NaN</td>\n",
       "      <td>3.8</td>\n",
       "      <td>6.0</td>\n",
       "      <td>False</td>\n",
       "    </tr>\n",
       "    <tr>\n",
       "      <th>2</th>\n",
       "      <td>3.5 Liter DOHC</td>\n",
       "      <td>NaN</td>\n",
       "      <td>3.5</td>\n",
       "      <td>NaN</td>\n",
       "      <td>False</td>\n",
       "    </tr>\n",
       "    <tr>\n",
       "      <th>3</th>\n",
       "      <td>354.0HP 3.5L V6 Cylinder Engine Gas/Electric H...</td>\n",
       "      <td>354.0</td>\n",
       "      <td>3.5</td>\n",
       "      <td>6.0</td>\n",
       "      <td>False</td>\n",
       "    </tr>\n",
       "    <tr>\n",
       "      <th>4</th>\n",
       "      <td>2.0L I4 16V GDI DOHC Turbo</td>\n",
       "      <td>NaN</td>\n",
       "      <td>2.0</td>\n",
       "      <td>4.0</td>\n",
       "      <td>True</td>\n",
       "    </tr>\n",
       "    <tr>\n",
       "      <th>...</th>\n",
       "      <td>...</td>\n",
       "      <td>...</td>\n",
       "      <td>...</td>\n",
       "      <td>...</td>\n",
       "      <td>...</td>\n",
       "    </tr>\n",
       "    <tr>\n",
       "      <th>3942</th>\n",
       "      <td>400.0HP 5.0L 8 Cylinder Engine Gasoline Fuel</td>\n",
       "      <td>400.0</td>\n",
       "      <td>5.0</td>\n",
       "      <td>8.0</td>\n",
       "      <td>False</td>\n",
       "    </tr>\n",
       "    <tr>\n",
       "      <th>3943</th>\n",
       "      <td>211.0HP 2.0L 4 Cylinder Engine Diesel Fuel</td>\n",
       "      <td>211.0</td>\n",
       "      <td>2.0</td>\n",
       "      <td>4.0</td>\n",
       "      <td>False</td>\n",
       "    </tr>\n",
       "    <tr>\n",
       "      <th>3974</th>\n",
       "      <td>136.0HP 1.8L 4 Cylinder Engine Gasoline Fuel</td>\n",
       "      <td>136.0</td>\n",
       "      <td>1.8</td>\n",
       "      <td>4.0</td>\n",
       "      <td>False</td>\n",
       "    </tr>\n",
       "    <tr>\n",
       "      <th>3977</th>\n",
       "      <td>270.0HP 2.0L 4 Cylinder Engine Gasoline Fuel</td>\n",
       "      <td>270.0</td>\n",
       "      <td>2.0</td>\n",
       "      <td>4.0</td>\n",
       "      <td>False</td>\n",
       "    </tr>\n",
       "    <tr>\n",
       "      <th>3996</th>\n",
       "      <td>420.0HP 5.9L 12 Cylinder Engine Gasoline Fuel</td>\n",
       "      <td>420.0</td>\n",
       "      <td>5.9</td>\n",
       "      <td>12.0</td>\n",
       "      <td>False</td>\n",
       "    </tr>\n",
       "  </tbody>\n",
       "</table>\n",
       "<p>1146 rows × 5 columns</p>\n",
       "</div>"
      ],
      "text/plain": [
       "                                                 engine  horsepower  \\\n",
       "0     300.0HP 3.7L V6 Cylinder Engine Flex Fuel Capa...       300.0   \n",
       "1                                  3.8L V6 24V GDI DOHC         NaN   \n",
       "2                                        3.5 Liter DOHC         NaN   \n",
       "3     354.0HP 3.5L V6 Cylinder Engine Gas/Electric H...       354.0   \n",
       "4                            2.0L I4 16V GDI DOHC Turbo         NaN   \n",
       "...                                                 ...         ...   \n",
       "3942       400.0HP 5.0L 8 Cylinder Engine Gasoline Fuel       400.0   \n",
       "3943         211.0HP 2.0L 4 Cylinder Engine Diesel Fuel       211.0   \n",
       "3974       136.0HP 1.8L 4 Cylinder Engine Gasoline Fuel       136.0   \n",
       "3977       270.0HP 2.0L 4 Cylinder Engine Gasoline Fuel       270.0   \n",
       "3996      420.0HP 5.9L 12 Cylinder Engine Gasoline Fuel       420.0   \n",
       "\n",
       "      displacement  cylinders  turbo  \n",
       "0              3.7        6.0  False  \n",
       "1              3.8        6.0  False  \n",
       "2              3.5        NaN  False  \n",
       "3              3.5        6.0  False  \n",
       "4              2.0        4.0   True  \n",
       "...            ...        ...    ...  \n",
       "3942           5.0        8.0  False  \n",
       "3943           2.0        4.0  False  \n",
       "3974           1.8        4.0  False  \n",
       "3977           2.0        4.0  False  \n",
       "3996           5.9       12.0  False  \n",
       "\n",
       "[1146 rows x 5 columns]"
      ]
     },
     "metadata": {},
     "output_type": "display_data"
    }
   ],
   "source": [
    "unique_engines = used_car[['engine', 'horsepower', 'displacement', 'cylinders','turbo']].drop_duplicates()\n",
    "display(unique_engines)"
   ]
  },
  {
   "cell_type": "code",
   "execution_count": 150,
   "metadata": {},
   "outputs": [],
   "source": [
    "# Classify Transmission into Automatic, Manual and Other\n",
    "def classify_transmission(transmission):\n",
    "    if \"manual\" in transmission.lower() or \"m/t\" in transmission.lower():\n",
    "        return \"Manual\"\n",
    "    elif \"automatic\" in transmission.lower() or \"a/t\" in transmission.lower():\n",
    "        return \"Automatic\"\n",
    "    else:\n",
    "        return np.nan\n",
    "\n",
    "used_car['transmission_type'] = used_car['transmission'].apply(classify_transmission)"
   ]
  },
  {
   "cell_type": "code",
   "execution_count": 151,
   "metadata": {},
   "outputs": [],
   "source": [
    "# Create a new column num_gears by extracting the number of gears from transmission\n",
    "def extract_gears(transmission):\n",
    "    match = pd.Series(transmission).str.extract(r'(\\d+)')\n",
    "    return match[0] if not match.empty else np.nan\n",
    "\n",
    "used_car['gears'] = used_car['transmission'].apply(extract_gears).astype(float)"
   ]
  },
  {
   "cell_type": "code",
   "execution_count": 152,
   "metadata": {},
   "outputs": [
    {
     "data": {
      "text/html": [
       "<div>\n",
       "<style scoped>\n",
       "    .dataframe tbody tr th:only-of-type {\n",
       "        vertical-align: middle;\n",
       "    }\n",
       "\n",
       "    .dataframe tbody tr th {\n",
       "        vertical-align: top;\n",
       "    }\n",
       "\n",
       "    .dataframe thead th {\n",
       "        text-align: right;\n",
       "    }\n",
       "</style>\n",
       "<table border=\"1\" class=\"dataframe\">\n",
       "  <thead>\n",
       "    <tr style=\"text-align: right;\">\n",
       "      <th></th>\n",
       "      <th>transmission</th>\n",
       "      <th>transmission_type</th>\n",
       "      <th>gears</th>\n",
       "    </tr>\n",
       "  </thead>\n",
       "  <tbody>\n",
       "    <tr>\n",
       "      <th>0</th>\n",
       "      <td>6-Speed A/T</td>\n",
       "      <td>Automatic</td>\n",
       "      <td>6.0</td>\n",
       "    </tr>\n",
       "    <tr>\n",
       "      <th>1</th>\n",
       "      <td>8-Speed Automatic</td>\n",
       "      <td>Automatic</td>\n",
       "      <td>8.0</td>\n",
       "    </tr>\n",
       "    <tr>\n",
       "      <th>2</th>\n",
       "      <td>Automatic</td>\n",
       "      <td>Automatic</td>\n",
       "      <td>NaN</td>\n",
       "    </tr>\n",
       "    <tr>\n",
       "      <th>3</th>\n",
       "      <td>7-Speed A/T</td>\n",
       "      <td>Automatic</td>\n",
       "      <td>7.0</td>\n",
       "    </tr>\n",
       "    <tr>\n",
       "      <th>5</th>\n",
       "      <td>F</td>\n",
       "      <td>NaN</td>\n",
       "      <td>NaN</td>\n",
       "    </tr>\n",
       "    <tr>\n",
       "      <th>...</th>\n",
       "      <td>...</td>\n",
       "      <td>...</td>\n",
       "      <td>...</td>\n",
       "    </tr>\n",
       "    <tr>\n",
       "      <th>2393</th>\n",
       "      <td>9-Speed Automatic with Auto-Shift</td>\n",
       "      <td>Automatic</td>\n",
       "      <td>9.0</td>\n",
       "    </tr>\n",
       "    <tr>\n",
       "      <th>2620</th>\n",
       "      <td>SCHEDULED FOR OR IN PRODUCTION</td>\n",
       "      <td>NaN</td>\n",
       "      <td>NaN</td>\n",
       "    </tr>\n",
       "    <tr>\n",
       "      <th>2772</th>\n",
       "      <td>2-Speed A/T</td>\n",
       "      <td>Automatic</td>\n",
       "      <td>2.0</td>\n",
       "    </tr>\n",
       "    <tr>\n",
       "      <th>3206</th>\n",
       "      <td>6 Speed Mt</td>\n",
       "      <td>NaN</td>\n",
       "      <td>6.0</td>\n",
       "    </tr>\n",
       "    <tr>\n",
       "      <th>3315</th>\n",
       "      <td>8-Speed Manual</td>\n",
       "      <td>Manual</td>\n",
       "      <td>8.0</td>\n",
       "    </tr>\n",
       "  </tbody>\n",
       "</table>\n",
       "<p>62 rows × 3 columns</p>\n",
       "</div>"
      ],
      "text/plain": [
       "                           transmission transmission_type  gears\n",
       "0                           6-Speed A/T         Automatic    6.0\n",
       "1                     8-Speed Automatic         Automatic    8.0\n",
       "2                             Automatic         Automatic    NaN\n",
       "3                           7-Speed A/T         Automatic    7.0\n",
       "5                                     F               NaN    NaN\n",
       "...                                 ...               ...    ...\n",
       "2393  9-Speed Automatic with Auto-Shift         Automatic    9.0\n",
       "2620     SCHEDULED FOR OR IN PRODUCTION               NaN    NaN\n",
       "2772                        2-Speed A/T         Automatic    2.0\n",
       "3206                         6 Speed Mt               NaN    6.0\n",
       "3315                     8-Speed Manual            Manual    8.0\n",
       "\n",
       "[62 rows x 3 columns]"
      ]
     },
     "metadata": {},
     "output_type": "display_data"
    }
   ],
   "source": [
    "# Check the transmission_type, and gears of each unique transformation\n",
    "# pd.set_option('display.max_rows', None)\n",
    "unique_transmissions = used_car[['transmission', 'transmission_type', 'gears']].drop_duplicates()\n",
    "display(unique_transmissions)"
   ]
  },
  {
   "cell_type": "code",
   "execution_count": 153,
   "metadata": {},
   "outputs": [],
   "source": [
    "# Drop engine and transmission columns\n",
    "used_car.drop(['engine', 'transmission'], axis=1, inplace=True)"
   ]
  },
  {
   "cell_type": "code",
   "execution_count": 154,
   "metadata": {},
   "outputs": [
    {
     "data": {
      "text/plain": [
       "Index(['brand', 'model', 'model_year', 'milage', 'fuel_type', 'ext_col',\n",
       "       'int_col', 'accident', 'clean_title', 'price', 'horsepower',\n",
       "       'displacement', 'cylinders', 'turbo', 'transmission_type', 'gears'],\n",
       "      dtype='object')"
      ]
     },
     "execution_count": 154,
     "metadata": {},
     "output_type": "execute_result"
    }
   ],
   "source": [
    "used_car.columns"
   ]
  },
  {
   "cell_type": "markdown",
   "metadata": {},
   "source": [
    "### Next, we start the EDA procedures for the transformed dataset."
   ]
  },
  {
   "cell_type": "code",
   "execution_count": 155,
   "metadata": {},
   "outputs": [
    {
     "data": {
      "text/plain": [
       "(4009, 16)"
      ]
     },
     "execution_count": 155,
     "metadata": {},
     "output_type": "execute_result"
    }
   ],
   "source": [
    "# dataset dimensions\n",
    "used_car.shape"
   ]
  },
  {
   "cell_type": "code",
   "execution_count": 156,
   "metadata": {},
   "outputs": [
    {
     "name": "stdout",
     "output_type": "stream",
     "text": [
      "Column: brand, Data type: object\n",
      "Column: model, Data type: object\n",
      "Column: model_year, Data type: int64\n",
      "Column: milage, Data type: int64\n",
      "Column: fuel_type, Data type: object\n",
      "Column: ext_col, Data type: object\n",
      "Column: int_col, Data type: object\n",
      "Column: accident, Data type: object\n",
      "Column: clean_title, Data type: object\n",
      "Column: price, Data type: int64\n",
      "Column: horsepower, Data type: float64\n",
      "Column: displacement, Data type: float64\n",
      "Column: cylinders, Data type: float64\n",
      "Column: turbo, Data type: bool\n",
      "Column: transmission_type, Data type: object\n",
      "Column: gears, Data type: float64\n"
     ]
    }
   ],
   "source": [
    "# Column data types\n",
    "for col in used_car.columns:\n",
    "    print(f\"Column: {col}, Data type: {used_car[col].dtype}\")"
   ]
  },
  {
   "cell_type": "code",
   "execution_count": 157,
   "metadata": {},
   "outputs": [
    {
     "data": {
      "text/plain": [
       "count    4.009000e+03\n",
       "mean     4.455319e+04\n",
       "std      7.871064e+04\n",
       "min      2.000000e+03\n",
       "25%      1.720000e+04\n",
       "50%      3.100000e+04\n",
       "75%      4.999000e+04\n",
       "max      2.954083e+06\n",
       "Name: price, dtype: float64"
      ]
     },
     "execution_count": 157,
     "metadata": {},
     "output_type": "execute_result"
    }
   ],
   "source": [
    "# Describe the target variable \"sales price\"\n",
    "sales_price = used_car['price']\n",
    "sales_price.describe()"
   ]
  },
  {
   "cell_type": "code",
   "execution_count": 158,
   "metadata": {},
   "outputs": [
    {
     "data": {
      "image/png": "[encoded data removed]",
      "text/plain": [
       "<Figure size 500x300 with 1 Axes>"
      ]
     },
     "metadata": {},
     "output_type": "display_data"
    },
    {
     "name": "stdout",
     "output_type": "stream",
     "text": [
      "19.51355120421606\n"
     ]
    }
   ],
   "source": [
    "import matplotlib.pyplot as plt\n",
    "\n",
    "# Histogram of sales_price\n",
    "plt.figure(figsize=(5,3))\n",
    "plt.hist(sales_price, bins=30, edgecolor='black')\n",
    "plt.title(\"Distribution of Used Car Sales Price\")\n",
    "plt.xlabel(\"Price ($)\")\n",
    "plt.ylabel(\"Frequency\")\n",
    "plt.show()\n",
    "\n",
    "print(sales_price.skew())"
   ]
  },
  {
   "cell_type": "markdown",
   "metadata": {},
   "source": [
    "This the skewness is significantly larger than 0, the target variable is right-skewed."
   ]
  },
  {
   "cell_type": "code",
   "execution_count": 159,
   "metadata": {},
   "outputs": [
    {
     "data": {
      "image/png": "[encoded data removed]",
      "text/plain": [
       "<Figure size 500x300 with 1 Axes>"
      ]
     },
     "metadata": {},
     "output_type": "display_data"
    }
   ],
   "source": [
    "# Boxplot of sales_price\n",
    "plt.figure(figsize=(5, 3))\n",
    "plt.boxplot(sales_price)\n",
    "plt.title('Box Plot of Sales Price')\n",
    "plt.ylabel('Price ($)')\n",
    "plt.show()"
   ]
  },
  {
   "cell_type": "code",
   "execution_count": 160,
   "metadata": {},
   "outputs": [
    {
     "name": "stdout",
     "output_type": "stream",
     "text": [
      "              brand                      model  model_year  milage fuel_type  \\\n",
      "11            Aston    Martin DBS Superleggera        2019   22770  Gasoline   \n",
      "16    Mercedes-Benz                Metris Base        2021    1685  Gasoline   \n",
      "44            Lucid          Air Grand Touring        2022    3552       NaN   \n",
      "61             Audi                 R8 5.2 V10        2018    8940  Gasoline   \n",
      "71          Bentley         Continental GT W12        2017   14684  Gasoline   \n",
      "...             ...                        ...         ...     ...       ...   \n",
      "3964        Porsche                911 Carrera        2022    2950  Gasoline   \n",
      "3993        Porsche              911 Carrera S        2021    7008  Gasoline   \n",
      "3994            BMW  M8 Gran Coupe Competition        2022   21057  Gasoline   \n",
      "4002  Mercedes-Benz          AMG GLS 63 4MATIC        2023    2000    Hybrid   \n",
      "4004        Bentley       Continental GT Speed        2023     714  Gasoline   \n",
      "\n",
      "                 ext_col  int_col       accident clean_title   price  \\\n",
      "11                Silver    Black  None reported         Yes  184606   \n",
      "16                  Gray    White  None reported         Yes  250000   \n",
      "44                   Red    Beige  None reported         Yes  119999   \n",
      "61    Tango Red Metallic    Black  None reported         NaN  144900   \n",
      "71                 White    White  None reported         Yes  130000   \n",
      "...                  ...      ...            ...         ...     ...   \n",
      "3964               Green    Black  None reported         Yes  131000   \n",
      "3993                Gray    Black            NaN         NaN  151900   \n",
      "3994                Gray    Black  None reported         Yes   99800   \n",
      "4002                Gray    Beige  None reported         Yes  175000   \n",
      "4004               C / C  Hotspur  None reported         Yes  349950   \n",
      "\n",
      "      horsepower  displacement  cylinders  turbo transmission_type  gears  \n",
      "11         715.0           5.2       12.0  False         Automatic    8.0  \n",
      "16           NaN           2.0        4.0   True         Automatic    9.0  \n",
      "44         536.0           NaN        NaN  False         Automatic    1.0  \n",
      "61           NaN           5.2       10.0  False         Automatic    7.0  \n",
      "71         582.0           6.0       12.0  False         Automatic    8.0  \n",
      "...          ...           ...        ...    ...               ...    ...  \n",
      "3964       379.0           3.0        6.0  False         Automatic    8.0  \n",
      "3993       443.0           3.0        6.0  False         Automatic    8.0  \n",
      "3994       617.0           4.4        8.0  False               NaN    NaN  \n",
      "4002       603.0           4.0        8.0  False         Automatic    9.0  \n",
      "4004         NaN           6.0        NaN   True         Automatic    8.0  \n",
      "\n",
      "[244 rows x 16 columns]\n"
     ]
    }
   ],
   "source": [
    "# reduce outliers\n",
    "# Identify outliers based on the IQR method\n",
    "Q1 = sales_price.quantile(0.25)\n",
    "Q3 = sales_price.quantile(0.75)\n",
    "IQR = Q3 - Q1\n",
    "lower_bound = Q1 - 1.5 * IQR\n",
    "upper_bound = Q3 + 1.5 * IQR\n",
    "\n",
    "# Filter out the outliers\n",
    "outliers = used_car[sales_price > upper_bound]\n",
    "\n",
    "# Display the outliers\n",
    "print(outliers)\n"
   ]
  },
  {
   "cell_type": "code",
   "execution_count": 161,
   "metadata": {},
   "outputs": [
    {
     "data": {
      "image/png": "[encoded data removed]",
      "text/plain": [
       "<Figure size 500x300 with 1 Axes>"
      ]
     },
     "metadata": {},
     "output_type": "display_data"
    },
    {
     "name": "stdout",
     "output_type": "stream",
     "text": [
      "0.10559179534941941\n"
     ]
    }
   ],
   "source": [
    "# Log Transformation\n",
    "used_car['sales_price_log'] = np.log(used_car['price'])\n",
    "plt.figure(figsize=(5,3))\n",
    "plt.hist(used_car['sales_price_log'], bins=30, edgecolor='black')\n",
    "plt.title(\"Distribution of Used Car Sales Price after log transformation\")\n",
    "plt.xlabel(\"Log Price ($)\")\n",
    "plt.ylabel(\"Frequency\")\n",
    "plt.show()\n",
    "\n",
    "print(used_car['sales_price_log'].skew())"
   ]
  },
  {
   "cell_type": "code",
   "execution_count": 162,
   "metadata": {},
   "outputs": [
    {
     "data": {
      "text/plain": [
       "count    4009.000000\n",
       "mean       10.302352\n",
       "std         0.850098\n",
       "min         7.600902\n",
       "25%         9.752665\n",
       "50%        10.341742\n",
       "75%        10.819578\n",
       "max        14.898699\n",
       "Name: sales_price_log, dtype: float64"
      ]
     },
     "execution_count": 162,
     "metadata": {},
     "output_type": "execute_result"
    }
   ],
   "source": [
    "used_car['sales_price_log'].describe()"
   ]
  },
  {
   "cell_type": "code",
   "execution_count": 163,
   "metadata": {},
   "outputs": [
    {
     "data": {
      "image/png": "[encoded data removed]",
      "text/plain": [
       "<Figure size 500x300 with 1 Axes>"
      ]
     },
     "metadata": {},
     "output_type": "display_data"
    }
   ],
   "source": [
    "# Boxplot of log tranformed sales_price\n",
    "plt.figure(figsize=(5, 3))\n",
    "plt.boxplot(used_car['sales_price_log'])\n",
    "plt.title('Box Plot of Log Sales Price')\n",
    "plt.ylabel('Log Price ($)')\n",
    "plt.show()"
   ]
  },
  {
   "cell_type": "code",
   "execution_count": 164,
   "metadata": {},
   "outputs": [
    {
     "data": {
      "image/png": "[encoded data removed]",
      "text/plain": [
       "<Figure size 500x300 with 1 Axes>"
      ]
     },
     "metadata": {},
     "output_type": "display_data"
    }
   ],
   "source": [
    "# Violinplot of log tranformed sales_price\n",
    "plt.figure(figsize=(5, 3))\n",
    "plt.violinplot(used_car['sales_price_log'], showmeans=True)\n",
    "plt.title('Violin Plot of Log Sales Price')\n",
    "plt.ylabel('Log Price ($)')\n",
    "plt.show()"
   ]
  },
  {
   "cell_type": "code",
   "execution_count": 165,
   "metadata": {},
   "outputs": [
    {
     "name": "stdout",
     "output_type": "stream",
     "text": [
      "Fraction of missing values in features:\n",
      "fuel_type            0.054128\n",
      "accident             0.028187\n",
      "clean_title          0.148666\n",
      "horsepower           0.201547\n",
      "displacement         0.054128\n",
      "cylinders            0.109753\n",
      "transmission_type    0.121976\n",
      "gears                0.457221\n",
      "dtype: float64\n",
      "Data types of the features with missing values:\n",
      "fuel_type             object\n",
      "accident              object\n",
      "clean_title           object\n",
      "horsepower           float64\n",
      "displacement         float64\n",
      "cylinders            float64\n",
      "transmission_type     object\n",
      "gears                float64\n",
      "dtype: object\n",
      "Fraction of points with missing values: 0.6083811424295336\n"
     ]
    }
   ],
   "source": [
    "# Missing Value Detection\n",
    "perc_missing_per_ftr = used_car.isnull().sum(axis=0) / used_car.shape[0]\n",
    "print('Fraction of missing values in features:')\n",
    "print(perc_missing_per_ftr[perc_missing_per_ftr > 0])\n",
    "\n",
    "print('Data types of the features with missing values:')\n",
    "print(used_car[perc_missing_per_ftr[perc_missing_per_ftr > 0].index].dtypes)\n",
    "\n",
    "frac_missing = sum(used_car.isnull().sum(axis=1) != 0) / used_car.shape[0]\n",
    "print('Fraction of points with missing values:', frac_missing)"
   ]
  },
  {
   "cell_type": "markdown",
   "metadata": {},
   "source": [
    "### Finally, we start the splitting and preprocessing procedures"
   ]
  },
  {
   "cell_type": "code",
   "execution_count": 166,
   "metadata": {},
   "outputs": [
    {
     "name": "stdout",
     "output_type": "stream",
     "text": [
      "Column: brand, Data Type: object\n",
      "Column: model, Data Type: object\n",
      "Column: model_year, Data Type: int64\n",
      "Column: milage, Data Type: int64\n",
      "Column: fuel_type, Data Type: object\n",
      "Column: ext_col, Data Type: object\n",
      "Column: int_col, Data Type: object\n",
      "Column: accident, Data Type: object\n",
      "Column: clean_title, Data Type: object\n",
      "Column: price, Data Type: int64\n",
      "Column: horsepower, Data Type: float64\n",
      "Column: displacement, Data Type: float64\n",
      "Column: cylinders, Data Type: float64\n",
      "Column: turbo, Data Type: bool\n",
      "Column: transmission_type, Data Type: object\n",
      "Column: gears, Data Type: float64\n",
      "Column: sales_price_log, Data Type: float64\n"
     ]
    }
   ],
   "source": [
    "# Data types of features\n",
    "for column in used_car.columns:\n",
    "    print(f\"Column: {column}, Data Type: {used_car[column].dtype}\")"
   ]
  },
  {
   "cell_type": "code",
   "execution_count": 167,
   "metadata": {},
   "outputs": [],
   "source": [
    "# Import split and preprocessing packages\n",
    "from sklearn.impute import SimpleImputer\n",
    "from sklearn.model_selection import train_test_split\n",
    "from sklearn.compose import ColumnTransformer\n",
    "from sklearn.pipeline import Pipeline\n",
    "from sklearn.preprocessing import OneHotEncoder\n",
    "from sklearn.preprocessing import StandardScaler"
   ]
  },
  {
   "cell_type": "code",
   "execution_count": 168,
   "metadata": {},
   "outputs": [
    {
     "name": "stdout",
     "output_type": "stream",
     "text": [
      "(4009, 15)\n",
      "(2405, 15)\n",
      "(802, 15)\n",
      "(802, 15)\n"
     ]
    }
   ],
   "source": [
    "# Split\n",
    "random_state = 42\n",
    "\n",
    "y = used_car['sales_price_log']\n",
    "X = used_car.drop(['price', 'sales_price_log'], axis=1)\n",
    "print(X.shape)\n",
    "\n",
    "X_train, X_other, y_train, y_other = train_test_split(X, y, train_size=0.6, random_state=random_state)\n",
    "X_val, X_test, y_val, y_test = train_test_split(X_other, y_other, test_size=0.5, random_state=random_state)\n",
    "\n",
    "print(X_train.shape)\n",
    "print(X_val.shape)\n",
    "print(X_test.shape)"
   ]
  },
  {
   "cell_type": "code",
   "execution_count": 169,
   "metadata": {},
   "outputs": [],
   "source": [
    "# Group features into numerical and categorical variables\n",
    "num_ftrs = ['model_year', 'milage', 'horsepower', 'displacement', 'cylinders', 'turbo', 'gears']\n",
    "cat_ftrs = ['brand', 'model', 'fuel_type', 'ext_col', 'int_col', 'accident', 'clean_title', 'transmission_type']"
   ]
  },
  {
   "cell_type": "code",
   "execution_count": 170,
   "metadata": {},
   "outputs": [],
   "source": [
    "# Preprocess\n",
    "# one-hot encoder for categorical features\n",
    "categorical_transformer = Pipeline(steps=[\n",
    "    ('imputer', SimpleImputer(strategy='constant',fill_value='missing')),\n",
    "    ('onehot', OneHotEncoder(sparse_output=False,handle_unknown='ignore'))])\n",
    "\n",
    "# standard scaler for numerical variables\n",
    "numeric_transformer = Pipeline(steps=[\n",
    "    ('scaler', StandardScaler())])\n",
    "\n",
    "# collect the transformers\n",
    "preprocessor = ColumnTransformer(\n",
    "    transformers=[\n",
    "        ('num', numeric_transformer, num_ftrs),\n",
    "        ('cat', categorical_transformer, cat_ftrs)])"
   ]
  },
  {
   "cell_type": "code",
   "execution_count": 171,
   "metadata": {},
   "outputs": [
    {
     "name": "stdout",
     "output_type": "stream",
     "text": [
      "(2405, 1777)\n",
      "(802, 1777)\n",
      "(802, 1777)\n",
      "['num__model_year' 'num__milage' 'num__horsepower' ...\n",
      " 'cat__transmission_type_Automatic' 'cat__transmission_type_Manual'\n",
      " 'cat__transmission_type_missing']\n"
     ]
    }
   ],
   "source": [
    "# fit_transform the training set\n",
    "X_prep = preprocessor.fit_transform(X_train)\n",
    "# the feature names after fit\n",
    "feature_names = preprocessor.get_feature_names_out()\n",
    "\n",
    "# you can convert the numpy array back to a data frame with the feature names if you want\n",
    "df_train = pd.DataFrame(data=X_prep,columns=feature_names)\n",
    "print(df_train.shape)\n",
    "\n",
    "# transform the CV\n",
    "df_val = preprocessor.transform(X_val)\n",
    "df_val = pd.DataFrame(data=df_val,columns = feature_names)\n",
    "print(df_val.shape)\n",
    "\n",
    "# transform the test\n",
    "df_test = preprocessor.transform(X_test)\n",
    "df_test = pd.DataFrame(data=df_test,columns = feature_names)\n",
    "print(df_test.shape)\n",
    "print(feature_names)"
   ]
  },
  {
   "cell_type": "code",
   "execution_count": 172,
   "metadata": {},
   "outputs": [
    {
     "name": "stdout",
     "output_type": "stream",
     "text": [
      "data dimensions: (2405, 1777)\n",
      "fraction of missing values in features:\n",
      "num__horsepower      0.200416\n",
      "num__displacement    0.050728\n",
      "num__cylinders       0.111435\n",
      "num__gears           0.456549\n",
      "dtype: float64\n",
      "data types of the features with missing values:\n",
      "num__horsepower      float64\n",
      "num__displacement    float64\n",
      "num__cylinders       float64\n",
      "num__gears           float64\n",
      "dtype: object\n",
      "fraction of points with missing values: 0.59002079002079\n"
     ]
    }
   ],
   "source": [
    "# Missing Value After imputation\n",
    "print('data dimensions:',df_train.shape)\n",
    "perc_missing_per_ftr = df_train.isnull().sum(axis=0)/df_train.shape[0]\n",
    "print('fraction of missing values in features:')\n",
    "print(perc_missing_per_ftr[perc_missing_per_ftr > 0])\n",
    "print('data types of the features with missing values:')\n",
    "print(df_train[perc_missing_per_ftr[perc_missing_per_ftr > 0].index].dtypes)\n",
    "frac_missing = sum(df_train.isnull().sum(axis=1)!=0)/df_train.shape[0]\n",
    "print('fraction of points with missing values:',frac_missing)"
   ]
  },
  {
   "cell_type": "code",
   "execution_count": 173,
   "metadata": {},
   "outputs": [
    {
     "data": {
      "image/png": "[encoded data removed]",
      "text/plain": [
       "<Figure size 640x480 with 2 Axes>"
      ]
     },
     "metadata": {},
     "output_type": "display_data"
    }
   ],
   "source": [
    "import seaborn as sns\n",
    "\n",
    "numeric_df = used_car.drop(['price', 'sales_price_log'], axis=1).select_dtypes(include=['number'])\n",
    "corr_matrix = numeric_df.corr()\n",
    "sns.heatmap(corr_matrix, annot=True, cmap='coolwarm', vmin=-1, vmax=1, cbar=True)\n",
    "plt.title('Correlation Matrix Heatmap')\n",
    "plt.show()"
   ]
  }
 ],
 "metadata": {
  "kernelspec": {
   "display_name": "data1030_env",
   "language": "python",
   "name": "python3"
  },
  "language_info": {
   "codemirror_mode": {
    "name": "ipython",
    "version": 3
   },
   "file_extension": ".py",
   "mimetype": "text/x-python",
   "name": "python",
   "nbconvert_exporter": "python",
   "pygments_lexer": "ipython3",
   "version": "3.12.5"
  }
 },
 "nbformat": 4,
 "nbformat_minor": 2
}
